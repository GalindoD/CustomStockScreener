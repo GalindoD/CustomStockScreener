{
  "nbformat": 4,
  "nbformat_minor": 0,
  "metadata": {
    "colab": {
      "provenance": []
    },
    "kernelspec": {
      "name": "python3",
      "display_name": "Python 3"
    },
    "language_info": {
      "name": "python"
    }
  },
  "cells": [
    {
      "cell_type": "code",
      "execution_count": null,
      "metadata": {
        "id": "sDI-PhQUm3-6"
      },
      "outputs": [],
      "source": [
        "#Screener\n",
        "#ROIC > 10%\n",
        "#Revenue Growth > 10%\n",
        "#EPS > 10%\n",
        "#Equity Book Value > 10%\n",
        "#FCF > 10%\n",
        "\n",
        "#Total Long term Debt  / FCF < 3\n",
        "\n",
        "#Then... Technical Analysis\n",
        "#MACD 8-17-9\n",
        "#Stochastic 14-5\n",
        "#MA 10\n"
      ]
    },
    {
      "cell_type": "code",
      "source": [],
      "metadata": {
        "id": "for_Qh0FRBMx"
      },
      "execution_count": null,
      "outputs": []
    }
  ]
}